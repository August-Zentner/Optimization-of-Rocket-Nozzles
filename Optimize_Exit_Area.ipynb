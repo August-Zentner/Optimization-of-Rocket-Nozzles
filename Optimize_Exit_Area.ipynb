{
 "cells": [
  {
   "cell_type": "code",
   "execution_count": 113,
   "id": "cd5bee9c-c0a9-42b2-aecc-5185d3e05956",
   "metadata": {
    "tags": []
   },
   "outputs": [],
   "source": [
    "import matplotlib.pyplot as plt\n",
    "import numpy as np\n",
    "from math import ceil\n",
    "from scipy.interpolate import interp1d\n",
    "from scipy import integrate\n",
    "from scipy.integrate import odeint\n",
    "from scipy import optimize"
   ]
  },
  {
   "cell_type": "code",
   "execution_count": 125,
   "id": "e6298ce3-c682-4632-adbd-afbb56348bf7",
   "metadata": {
    "tags": []
   },
   "outputs": [
    {
     "name": "stdin",
     "output_type": "stream",
     "text": [
      "File in Log Rocket Data? (Without .txt)?:  38mm9(0.15625C)_apend_10.0%\n",
      "Throat Diameter(m)?: 0.00396875 \n",
      "Propellant Mass (g)?: 174.0\n"
     ]
    },
    {
     "name": "stdout",
     "output_type": "stream",
     "text": [
      " Using file :  /Users/augustzentner/Downloads/RocketTestStand-main/Log Rocket Data/38mm9(0.15625C)_apend_10.0%.TXT\n"
     ]
    }
   ],
   "source": [
    "filename = (input(\"File in Log Rocket Data? (Without .txt)?: \")) #\"38mm9(0.15625C)_apend_10.0%\"\n",
    "Dt= float(input('Throat Diameter(m)?:')) #0.00396875 \n",
    "propellant_mass_g = float(input('Propellant Mass (g)?:')) #174.0 #\n",
    "\n",
    "prefix = \"/Users/augustzentner/Downloads/RocketTestStand-main/Log Rocket Data/\"\n",
    "suffix = \".TXT\"\n",
    "\n",
    "filename = prefix + filename + suffix\n",
    "\n",
    "print(' Using file : ',filename)\n",
    "\n",
    "time, thrust = np.loadtxt(filename, delimiter=',', unpack=True)\n"
   ]
  },
  {
   "cell_type": "code",
   "execution_count": 126,
   "id": "f447a49a-24c0-4865-bb81-83beb2cba68a",
   "metadata": {},
   "outputs": [],
   "source": [
    "def area_from_pressure(p1,At):\n",
    "\n",
    "    pt= pRt*p1\n",
    "    \n",
    "    C1= ((k+1.0)/2.0)**(1.0/(k-1.0))\n",
    "    C2= ((pa/p1)**(1.0/k))\n",
    "    C3= np.sqrt( ((k+1.0)/(k-1.0))*(1.0-((pa/p1)**((k-1.0)/k))) )\n",
    "    C4= C1*C2*C3\n",
    "    Ae = At/C4\n",
    "    \n",
    "    De = np.sqrt((Ae/np.pi))\n",
    "    De_cm = De *100\n",
    "\n",
    "    ER= Ae/At\n",
    "\n",
    "    return Ae, ER"
   ]
  },
  {
   "cell_type": "code",
   "execution_count": 127,
   "id": "a42336fa-e94c-4412-80e6-beb2b7ed4f40",
   "metadata": {
    "tags": []
   },
   "outputs": [],
   "source": [
    "def area_exit(pe, p1, At, Aet):\n",
    "\n",
    "    pt= pRt*p1\n",
    "    \n",
    "    C1= ((k+1.0)/2.0)**(1.0/(k-1.0))\n",
    "    C2= ((pe/p1)**(1.0/k))\n",
    "    C3= np.sqrt( ((k+1.0)/(k-1.0))*(1.0-((pe/p1)**((k-1.0)/k))) )\n",
    "    C4= C1*C2*C3\n",
    "    \n",
    "    func_zero = C4 - (At/Aet)\n",
    "    \n",
    "    De = np.sqrt((Aet/np.pi))\n",
    "    De_cm = De *100\n",
    "\n",
    "    return func_zero"
   ]
  },
  {
   "cell_type": "code",
   "execution_count": 128,
   "id": "a6e0f142-5a51-4c85-aa24-0aa97fcdefe4",
   "metadata": {
    "tags": []
   },
   "outputs": [
    {
     "name": "stderr",
     "output_type": "stream",
     "text": [
      "/var/folders/g8/c0l7tdf94tn0kxy2sv51ghmc0000gn/T/ipykernel_87310/301377788.py:25: IntegrationWarning: The occurrence of roundoff error is detected, which prevents \n",
      "  the requested tolerance from being achieved.  The error may be \n",
      "  underestimated.\n",
      "  [total_impulse_2,impulse_error] = integrate.quad(interp_func_th,t_initial,t_final,limit=n_step_max)\n"
     ]
    }
   ],
   "source": [
    "#Dt= float(input('Throat Diameter(m)?:')) #0.00396875 \n",
    "\n",
    "pa = 101325.0\n",
    "\n",
    "At = np.pi*((Dt/2.0)**2)\n",
    "\n",
    "pRt= 0.5772057472 # relative pressure\n",
    "\n",
    "k = 1.1361 # some property of the fuel\n",
    "\n",
    "k2= 1.0423 # some comment here\n",
    "\n",
    "R = 228.4\n",
    "\n",
    "#propellant_mass_g = float(input('Propellant Mass (g)?:')) #174.0 #\n",
    "propellant_mass = propellant_mass_g * 0.001\n",
    "\n",
    "t_initial = np.min(time)\n",
    "t_final = np.max(time)\n",
    "\n",
    "n_step_max=10000\n",
    "\n",
    "interp_func_th = interp1d(time, thrust)\n",
    "\n",
    "[total_impulse_2,impulse_error] = integrate.quad(interp_func_th,t_initial,t_final,limit=n_step_max)\n",
    "mass_derivative_constant = (1.0/(propellant_mass)) * total_impulse_2\n",
    "\n",
    "dmdt = interp_func_th(time)/mass_derivative_constant\n",
    "\n",
    "interp_func_dmdt = interp1d(time, dmdt)\n",
    "\n",
    "factor1 = 2.0*(k2**2)/(k2-1.0)\n",
    "factor2 = (2.0/(k2+1.0))**((k2+1.0)/(k2-1.0))\n",
    "factor3 = (1.0-(pRt**((k2-1.0)/k2)))\n",
    "\n",
    "C5 = np.sqrt(factor1*factor2*factor3) + pRt\n",
    "\n",
    "p1 = (thrust/At + pa)/C5\n",
    "pt= pRt *p1\n",
    "\n",
    "vt = (thrust - (pt - pa)*At)/dmdt\n",
    "\n",
    "interp_func_vt = interp1d(time, vt)\n",
    "\n",
    "max_p1 = np.max(p1)\n",
    "min_p1 = np.min(p1)\n",
    "\n",
    "Ae_max, Er_max = area_from_pressure(max_p1, At)\n",
    "Ae_min, Er_min = area_from_pressure(min_p1, At)\n",
    "\n",
    "Ae_test_lst = np.linspace(Ae_min, Ae_max, 50)\n"
   ]
  },
  {
   "cell_type": "code",
   "execution_count": 129,
   "id": "c7be5fa3-649a-4f5e-8cbc-434e25f6f17d",
   "metadata": {},
   "outputs": [],
   "source": [
    "def calc_isp(Aet, Dt, pa, At, pRt, k, k2, R, t_initial, t_final, n_step_max, interp_func_th, dmdt, interp_func_dmdt, p1, pt, vt):\n",
    "    # area_exit(pe, p1, At, Aet)\n",
    "\n",
    "    pevals = ([])\n",
    "    n=0\n",
    "    \n",
    "    for pressure in p1:\n",
    "        \n",
    "        extra_args = (pressure, At, Aet)\n",
    "    \n",
    "        p1zero = optimize.brentq( area_exit, 0.001, pt[n], args=extra_args )\n",
    "        \n",
    "        pevals = np.append(pevals, p1zero) # convert from ratio to true pe\n",
    "        \n",
    "        n=n+1\n",
    "\n",
    "    pe = pevals\n",
    "\n",
    "    pRe = (pe/p1)\n",
    "    \n",
    "    f1 = (k+1.0)/(k-1.0)\n",
    "    pwr = (k-1.0)/k\n",
    "    f2 = (1.0 - ((pRe)**pwr))\n",
    "    \n",
    "    ve = vt*np.sqrt(f1*f2)\n",
    "    \n",
    "    thrust_f1= dmdt*ve\n",
    "    thrust_f2= (pe-pa)*(Aet)\n",
    "    Exit_thrust= thrust_f1+ thrust_f2\n",
    "\n",
    "    \n",
    "    Isp_f1 = (Exit_thrust/dmdt)\n",
    "    Isp = Isp_f1/9.81\n",
    "    \n",
    "    interp_func_th2 = interp1d(time, Exit_thrust)\n",
    "    Impulse2, error= integrate.quad(interp_func_th2, t_initial, t_final, limit=n_step_max)\n",
    "    \n",
    "    m2, error= integrate.quad(interp_func_dmdt, t_initial, t_final, limit=n_step_max)\n",
    "    dmdt_avg = m2/t_final\n",
    "\n",
    "    F_avg = Impulse2/t_final\n",
    "    IspF = ((F_avg/dmdt_avg)/9.81)\n",
    "    \n",
    "    \n",
    "    \n",
    "    return IspF"
   ]
  },
  {
   "cell_type": "code",
   "execution_count": 151,
   "id": "e639dc99-4eee-4179-adef-3c2a903fc012",
   "metadata": {
    "tags": []
   },
   "outputs": [
    {
     "name": "stderr",
     "output_type": "stream",
     "text": [
      "/var/folders/g8/c0l7tdf94tn0kxy2sv51ghmc0000gn/T/ipykernel_87310/1277579954.py:36: IntegrationWarning: The occurrence of roundoff error is detected, which prevents \n",
      "  the requested tolerance from being achieved.  The error may be \n",
      "  underestimated.\n",
      "  Impulse2, error= integrate.quad(interp_func_th2, t_initial, t_final, limit=n_step_max)\n",
      "/var/folders/g8/c0l7tdf94tn0kxy2sv51ghmc0000gn/T/ipykernel_87310/1277579954.py:38: IntegrationWarning: The occurrence of roundoff error is detected, which prevents \n",
      "  the requested tolerance from being achieved.  The error may be \n",
      "  underestimated.\n",
      "  m2, error= integrate.quad(interp_func_dmdt, t_initial, t_final, limit=n_step_max)\n"
     ]
    },
    {
     "name": "stdout",
     "output_type": "stream",
     "text": [
      "[134.03334092 135.34728083 136.47676354 137.45654722 138.31263589\n",
      " 139.0649613  139.72911609 140.3175134  140.84018568 141.30534923\n",
      " 141.71981189 142.08927325 142.41854958 142.71174482 142.9723825\n",
      " 143.2035087  143.40777332 143.58749496 143.74471309 143.88123051\n",
      " 143.99864801 144.09839305 144.18174352 144.2498476  144.30374051\n",
      " 144.34435859 144.37255135 144.38909168 144.3946847  144.38997528\n",
      " 144.37555465 144.35196608 144.31970986 144.27924764 144.23100623\n",
      " 144.17538099 144.11273881 144.04342068 143.9677441  143.88600511\n",
      " 143.79848016 143.70542779 143.60709011 143.50369413 143.395453\n",
      " 143.28256706 143.16522487 143.04360405 142.91787215 142.78818737]\n"
     ]
    },
    {
     "data": {
      "image/png": "[encoded data removed]",
      "text/plain": [
       "<Figure size 640x480 with 1 Axes>"
      ]
     },
     "metadata": {},
     "output_type": "display_data"
    }
   ],
   "source": [
    "Isp_lst = ([])\n",
    "\n",
    "for Ae in Ae_test_lst:\n",
    "    Isp = calc_isp(Ae, Dt, pa, At, pRt, k, k2, R, t_initial, t_final, n_step_max, interp_func_th, dmdt, interp_func_dmdt, p1, pt, vt)\n",
    "    Isp_lst = np.append(Isp_lst, Isp)\n",
    "\n",
    "print(Isp_lst)\n",
    "\n",
    "ER_lst = Ae_test_lst/ At\n",
    "\n",
    "fig = plt.figure()\n",
    "\n",
    "plt.plot(ER_lst,Isp_lst,linewidth=2.0,color='midnightblue')\n",
    "\n",
    "#12.61044718, 144.39469026869833\n",
    "#14.48, 144.24563007587508\n",
    "\n",
    "plt.plot([12.61045],[144.3947],marker='x',markersize=12,linewidth=3.0,color='midnightblue')\n",
    "plt.plot([14.48],[144.24563],marker='x',markersize=12,linewidth=3.0,color='midnightblue')\n",
    "\n",
    "plt.text(9.00,144.8,r\"$(12.61,\\ 144.40)$\",color='midnightblue')\n",
    "plt.text(14.8,144.5,r\"$(14.48,\\ 144.25)$\",color='midnightblue')\n",
    "\n",
    "plt.xlim(3.0,20.0)\n",
    "plt.ylim(133.5,145.5)\n",
    "\n",
    "plt.xlabel(' Expansion Ratio',fontsize=16)\n",
    "plt.ylabel(' Specific Impulse [s]',fontsize=16)\n",
    "\n",
    "plt.show()"
   ]
  },
  {
   "cell_type": "code",
   "execution_count": 131,
   "id": "3cc27618-6fe7-42f8-9c40-230881fe28fb",
   "metadata": {
    "tags": []
   },
   "outputs": [],
   "source": [
    "def neg_calc_isp(Aet, Dt, pa, At, pRt, k, k2, R, t_initial, t_final, n_step_max, interp_func_th, dmdt, interp_func_dmdt, p1, pt, vt):\n",
    "    Neg_Isp = -1*calc_isp(Aet, Dt, pa, At, pRt, k, k2, R, t_initial, t_final, n_step_max, interp_func_th, dmdt, interp_func_dmdt, p1, pt, vt)\n",
    "    return Neg_Isp"
   ]
  },
  {
   "cell_type": "code",
   "execution_count": 132,
   "id": "1dc1abd2-ab3c-4560-ad9e-e4ddccb2d28a",
   "metadata": {
    "tags": []
   },
   "outputs": [
    {
     "name": "stderr",
     "output_type": "stream",
     "text": [
      "/var/folders/g8/c0l7tdf94tn0kxy2sv51ghmc0000gn/T/ipykernel_87310/1277579954.py:36: IntegrationWarning: The occurrence of roundoff error is detected, which prevents \n",
      "  the requested tolerance from being achieved.  The error may be \n",
      "  underestimated.\n",
      "  Impulse2, error= integrate.quad(interp_func_th2, t_initial, t_final, limit=n_step_max)\n",
      "/var/folders/g8/c0l7tdf94tn0kxy2sv51ghmc0000gn/T/ipykernel_87310/1277579954.py:38: IntegrationWarning: The occurrence of roundoff error is detected, which prevents \n",
      "  the requested tolerance from being achieved.  The error may be \n",
      "  underestimated.\n",
      "  m2, error= integrate.quad(interp_func_dmdt, t_initial, t_final, limit=n_step_max)\n",
      "/var/folders/g8/c0l7tdf94tn0kxy2sv51ghmc0000gn/T/ipykernel_87310/1277579954.py:36: IntegrationWarning: The occurrence of roundoff error is detected, which prevents \n",
      "  the requested tolerance from being achieved.  The error may be \n",
      "  underestimated.\n",
      "  Impulse2, error= integrate.quad(interp_func_th2, t_initial, t_final, limit=n_step_max)\n",
      "/var/folders/g8/c0l7tdf94tn0kxy2sv51ghmc0000gn/T/ipykernel_87310/1277579954.py:38: IntegrationWarning: The occurrence of roundoff error is detected, which prevents \n",
      "  the requested tolerance from being achieved.  The error may be \n",
      "  underestimated.\n",
      "  m2, error= integrate.quad(interp_func_dmdt, t_initial, t_final, limit=n_step_max)\n"
     ]
    },
    {
     "name": "stdout",
     "output_type": "stream",
     "text": [
      "[0.000156]\n",
      "144.39469026869833\n"
     ]
    },
    {
     "name": "stderr",
     "output_type": "stream",
     "text": [
      "/var/folders/g8/c0l7tdf94tn0kxy2sv51ghmc0000gn/T/ipykernel_87310/1277579954.py:36: IntegrationWarning: The occurrence of roundoff error is detected, which prevents \n",
      "  the requested tolerance from being achieved.  The error may be \n",
      "  underestimated.\n",
      "  Impulse2, error= integrate.quad(interp_func_th2, t_initial, t_final, limit=n_step_max)\n",
      "/var/folders/g8/c0l7tdf94tn0kxy2sv51ghmc0000gn/T/ipykernel_87310/1277579954.py:38: IntegrationWarning: The occurrence of roundoff error is detected, which prevents \n",
      "  the requested tolerance from being achieved.  The error may be \n",
      "  underestimated.\n",
      "  m2, error= integrate.quad(interp_func_dmdt, t_initial, t_final, limit=n_step_max)\n"
     ]
    }
   ],
   "source": [
    "Isp_lst = ([])\n",
    "\n",
    "args2= (Dt, pa, At, pRt, k, k2, R, t_initial, t_final, n_step_max, interp_func_th, dmdt, interp_func_dmdt, p1, pt, vt)\n",
    "\n",
    "res = optimize.minimize(neg_calc_isp,x0 = (1.05* Ae_test_lst[0]) ,args=args2)\n",
    "\n",
    "Ae_O = res.x\n",
    "\n",
    "Isp_O = calc_isp(Ae_O, Dt, pa, At, pRt, k, k2, R, t_initial, t_final, n_step_max, interp_func_th, dmdt, interp_func_dmdt, p1, pt, vt)\n",
    "\n",
    "De_O = 2* np.sqrt((Ae_O/np.pi))\n",
    "\n",
    "print(Ae_O)\n",
    "print(Isp_O)"
   ]
  },
  {
   "cell_type": "code",
   "execution_count": 133,
   "id": "ed5dcf94-5da4-4932-8f16-69e1555aae67",
   "metadata": {
    "tags": []
   },
   "outputs": [
    {
     "name": "stdout",
     "output_type": "stream",
     "text": [
      "Area throat (m**2) 1.2370788063903754e-05\n",
      "Diameter throat (m) 0.00396875\n",
      "Area exit (m**2) [0.000156]\n",
      "Diameter exit (m) [0.0140935]\n",
      "Expansion Ratio [12.61044718]\n"
     ]
    }
   ],
   "source": [
    "print('Area throat (m**2)', At)\n",
    "print('Diameter throat (m)', Dt)\n",
    "print('Area exit (m**2)', Ae_O)\n",
    "print('Diameter exit (m)', De_O)\n",
    "print('Expansion Ratio', (Ae_O/At))"
   ]
  },
  {
   "cell_type": "code",
   "execution_count": 138,
   "id": "232bc8a8-52cd-4362-8691-3ca29ef9f392",
   "metadata": {},
   "outputs": [
    {
     "name": "stdout",
     "output_type": "stream",
     "text": [
      "144.24563007587508\n"
     ]
    },
    {
     "name": "stderr",
     "output_type": "stream",
     "text": [
      "/var/folders/g8/c0l7tdf94tn0kxy2sv51ghmc0000gn/T/ipykernel_87310/1277579954.py:36: IntegrationWarning: The occurrence of roundoff error is detected, which prevents \n",
      "  the requested tolerance from being achieved.  The error may be \n",
      "  underestimated.\n",
      "  Impulse2, error= integrate.quad(interp_func_th2, t_initial, t_final, limit=n_step_max)\n",
      "/var/folders/g8/c0l7tdf94tn0kxy2sv51ghmc0000gn/T/ipykernel_87310/1277579954.py:38: IntegrationWarning: The occurrence of roundoff error is detected, which prevents \n",
      "  the requested tolerance from being achieved.  The error may be \n",
      "  underestimated.\n",
      "  m2, error= integrate.quad(interp_func_dmdt, t_initial, t_final, limit=n_step_max)\n"
     ]
    }
   ],
   "source": [
    "Isp_1 = calc_isp(0.000179129, Dt, pa, At, pRt, k, k2, R, t_initial, t_final, n_step_max, interp_func_th, dmdt, interp_func_dmdt, p1, pt, vt)\n",
    "print(Isp_1)"
   ]
  },
  {
   "cell_type": "code",
   "execution_count": 135,
   "id": "facc5e6d-1d82-4a9f-b15a-7758c117bf5c",
   "metadata": {
    "tags": []
   },
   "outputs": [
    {
     "name": "stdout",
     "output_type": "stream",
     "text": [
      "106.05662275704674\n"
     ]
    },
    {
     "name": "stderr",
     "output_type": "stream",
     "text": [
      "/var/folders/g8/c0l7tdf94tn0kxy2sv51ghmc0000gn/T/ipykernel_87310/263918855.py:1: IntegrationWarning: The occurrence of roundoff error is detected, which prevents \n",
      "  the requested tolerance from being achieved.  The error may be \n",
      "  underestimated.\n",
      "  Impulse, error= integrate.quad(interp_func_th, t_initial, t_final, limit=n_step_max)\n",
      "/var/folders/g8/c0l7tdf94tn0kxy2sv51ghmc0000gn/T/ipykernel_87310/263918855.py:3: IntegrationWarning: The occurrence of roundoff error is detected, which prevents \n",
      "  the requested tolerance from being achieved.  The error may be \n",
      "  underestimated.\n",
      "  m2, error= integrate.quad(interp_func_dmdt, t_initial, t_final, limit=n_step_max)\n"
     ]
    }
   ],
   "source": [
    "\n",
    "Impulse, error= integrate.quad(interp_func_th, t_initial, t_final, limit=n_step_max)\n",
    "    \n",
    "m2, error= integrate.quad(interp_func_dmdt, t_initial, t_final, limit=n_step_max)\n",
    "dmdt_avg = m2/t_final\n",
    "\n",
    "F_avg = Impulse/t_final\n",
    "IspF = ((F_avg/dmdt_avg)/9.81)\n",
    "\n",
    "print(IspF)\n",
    "    "
   ]
  },
  {
   "cell_type": "code",
   "execution_count": null,
   "id": "918d9d48-4fc8-488c-a982-c77f9f3fae1f",
   "metadata": {},
   "outputs": [],
   "source": []
  }
 ],
 "metadata": {
  "kernelspec": {
   "display_name": "Python 3 (ipykernel)",
   "language": "python",
   "name": "python3"
  },
  "language_info": {
   "codemirror_mode": {
    "name": "ipython",
    "version": 3
   },
   "file_extension": ".py",
   "mimetype": "text/x-python",
   "name": "python",
   "nbconvert_exporter": "python",
   "pygments_lexer": "ipython3",
   "version": "3.11.3"
  }
 },
 "nbformat": 4,
 "nbformat_minor": 5
}
